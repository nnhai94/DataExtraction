{
 "cells": [
  {
   "cell_type": "markdown",
   "metadata": {},
   "source": [
    "# Data extraction\n",
    "\n",
    "**This project will scrape information about Board Members and Details of a company displayed [`on this page`](https://www.asx.com.au/asx/share-price-research/company/CBA/details)**"
   ]
  },
  {
   "cell_type": "markdown",
   "metadata": {},
   "source": [
    "First, we have to import `required libraries`. In this project, we will make use of `selenium` and `BeautifulSoup`, which are common packages and libraries used for webscraping"
   ]
  },
  {
   "cell_type": "code",
   "execution_count": 1,
   "metadata": {},
   "outputs": [],
   "source": [
    "from selenium import webdriver\n",
    "import chromedriver_binary\n",
    "from bs4 import BeautifulSoup\n",
    "import pandas as pd"
   ]
  },
  {
   "cell_type": "markdown",
   "metadata": {},
   "source": [
    "Next, get the content of the page in `html` format"
   ]
  },
  {
   "cell_type": "code",
   "execution_count": 2,
   "metadata": {},
   "outputs": [],
   "source": [
    "driver = webdriver.Chrome(executable_path=r'C:\\Users\\Admin PC\\Desktop\\Project\\chromedriver_win32\\chromedriver.exe')\n",
    "\n",
    "# Get the website\n",
    "driver.get('https://www.asx.com.au/asx/share-price-research/company/CBA/details')"
   ]
  },
  {
   "cell_type": "code",
   "execution_count": 3,
   "metadata": {},
   "outputs": [],
   "source": [
    "soup = BeautifulSoup(driver.page_source) # driver.page_source contains the source code of the page in html format"
   ]
  },
  {
   "cell_type": "markdown",
   "metadata": {},
   "source": [
    "After inspecting the page, we know that the information we want to gain is stored under `table` tag. Therefore, we have to find all the tables and then convert it into `dataframe`"
   ]
  },
  {
   "cell_type": "code",
   "execution_count": 4,
   "metadata": {},
   "outputs": [],
   "source": [
    "# Find all the tables on page\n",
    "table = soup.find_all('table')\n",
    "\n",
    "# Read all tables into dataframe\n",
    "df = pd.read_html(str(table)) # df is a list of dataframes"
   ]
  },
  {
   "cell_type": "markdown",
   "metadata": {},
   "source": [
    "Inspect our `df` variable to make sure we captured the right information"
   ]
  },
  {
   "cell_type": "code",
   "execution_count": 7,
   "metadata": {},
   "outputs": [
    {
     "data": {
      "text/plain": [
       "[                            0  \\\n",
       " 0                 Issuer code   \n",
       " 1       Official listing date   \n",
       " 2                 Fiscal year   \n",
       " 3         GICS industry group   \n",
       " 4             Exempt foreign?   \n",
       " 5            Internet address   \n",
       " 6   Registered office address   \n",
       " 7       Head office telephone   \n",
       " 8             Head office fax   \n",
       " 9              Share registry   \n",
       " 10   Share registry telephone   \n",
       " \n",
       "                                                     1  \n",
       " 0                                                 CBA  \n",
       " 1                                          12/09/1991  \n",
       " 2                                                 NaN  \n",
       " 3                                               Banks  \n",
       " 4                                                  No  \n",
       " 5                         http://www.commbank.com.au/  \n",
       " 6   Ground Floor, Tower 1, 201 Sussex Street, SYDN...  \n",
       " 7                                      (02) 9378 2000  \n",
       " 8                                      (02) 9118 7192  \n",
       " 9   LINK MARKET SERVICES LTD  LEVEL 12, 680 GEORGE...  \n",
       " 10                                       1800 022 440  ,\n",
       "                           0                                 1\n",
       " 0  Ms Catherine Livingstone      Chairman, Non Exec. Director\n",
       " 1          Mr Matthew Comyn  Managing Director, CEO, Director\n",
       " 2           Mr Shirish Apte                Non Exec. Director\n",
       " 3      Prof. Genevieve Bell                Non Exec. Director\n",
       " 4          Mr Paul O'Malley                Non Exec. Director\n",
       " 5           Ms Mary Padbury                Non Exec. Director\n",
       " 6            Ms Wendy Stops                Non Exec. Director\n",
       " 7   Ms Anne Templeman-Jones                Non Exec. Director\n",
       " 8          Mr Rob Whitfield                Non Exec. Director,\n",
       "                     0                  1\n",
       " 0  Ms Kristy Huxtable  Company Secretary\n",
       " 1    Ms Kara Nicholls  Company Secretary]"
      ]
     },
     "execution_count": 7,
     "metadata": {},
     "output_type": "execute_result"
    }
   ],
   "source": [
    "# Print all the tables\n",
    "df"
   ]
  },
  {
   "cell_type": "markdown",
   "metadata": {},
   "source": [
    "***We can see that there are 3 dataframes in our list. Let's have a look at each dataframe!***"
   ]
  },
  {
   "cell_type": "code",
   "execution_count": 9,
   "metadata": {},
   "outputs": [
    {
     "data": {
      "text/html": [
       "<div>\n",
       "<style scoped>\n",
       "    .dataframe tbody tr th:only-of-type {\n",
       "        vertical-align: middle;\n",
       "    }\n",
       "\n",
       "    .dataframe tbody tr th {\n",
       "        vertical-align: top;\n",
       "    }\n",
       "\n",
       "    .dataframe thead th {\n",
       "        text-align: right;\n",
       "    }\n",
       "</style>\n",
       "<table border=\"1\" class=\"dataframe\">\n",
       "  <thead>\n",
       "    <tr style=\"text-align: right;\">\n",
       "      <th></th>\n",
       "      <th>0</th>\n",
       "      <th>1</th>\n",
       "    </tr>\n",
       "  </thead>\n",
       "  <tbody>\n",
       "    <tr>\n",
       "      <th>0</th>\n",
       "      <td>Issuer code</td>\n",
       "      <td>CBA</td>\n",
       "    </tr>\n",
       "    <tr>\n",
       "      <th>1</th>\n",
       "      <td>Official listing date</td>\n",
       "      <td>12/09/1991</td>\n",
       "    </tr>\n",
       "    <tr>\n",
       "      <th>2</th>\n",
       "      <td>Fiscal year</td>\n",
       "      <td>NaN</td>\n",
       "    </tr>\n",
       "    <tr>\n",
       "      <th>3</th>\n",
       "      <td>GICS industry group</td>\n",
       "      <td>Banks</td>\n",
       "    </tr>\n",
       "    <tr>\n",
       "      <th>4</th>\n",
       "      <td>Exempt foreign?</td>\n",
       "      <td>No</td>\n",
       "    </tr>\n",
       "    <tr>\n",
       "      <th>5</th>\n",
       "      <td>Internet address</td>\n",
       "      <td>http://www.commbank.com.au/</td>\n",
       "    </tr>\n",
       "    <tr>\n",
       "      <th>6</th>\n",
       "      <td>Registered office address</td>\n",
       "      <td>Ground Floor, Tower 1, 201 Sussex Street, SYDN...</td>\n",
       "    </tr>\n",
       "    <tr>\n",
       "      <th>7</th>\n",
       "      <td>Head office telephone</td>\n",
       "      <td>(02) 9378 2000</td>\n",
       "    </tr>\n",
       "    <tr>\n",
       "      <th>8</th>\n",
       "      <td>Head office fax</td>\n",
       "      <td>(02) 9118 7192</td>\n",
       "    </tr>\n",
       "    <tr>\n",
       "      <th>9</th>\n",
       "      <td>Share registry</td>\n",
       "      <td>LINK MARKET SERVICES LTD  LEVEL 12, 680 GEORGE...</td>\n",
       "    </tr>\n",
       "    <tr>\n",
       "      <th>10</th>\n",
       "      <td>Share registry telephone</td>\n",
       "      <td>1800 022 440</td>\n",
       "    </tr>\n",
       "  </tbody>\n",
       "</table>\n",
       "</div>"
      ],
      "text/plain": [
       "                            0  \\\n",
       "0                 Issuer code   \n",
       "1       Official listing date   \n",
       "2                 Fiscal year   \n",
       "3         GICS industry group   \n",
       "4             Exempt foreign?   \n",
       "5            Internet address   \n",
       "6   Registered office address   \n",
       "7       Head office telephone   \n",
       "8             Head office fax   \n",
       "9              Share registry   \n",
       "10   Share registry telephone   \n",
       "\n",
       "                                                    1  \n",
       "0                                                 CBA  \n",
       "1                                          12/09/1991  \n",
       "2                                                 NaN  \n",
       "3                                               Banks  \n",
       "4                                                  No  \n",
       "5                         http://www.commbank.com.au/  \n",
       "6   Ground Floor, Tower 1, 201 Sussex Street, SYDN...  \n",
       "7                                      (02) 9378 2000  \n",
       "8                                      (02) 9118 7192  \n",
       "9   LINK MARKET SERVICES LTD  LEVEL 12, 680 GEORGE...  \n",
       "10                                       1800 022 440  "
      ]
     },
     "execution_count": 9,
     "metadata": {},
     "output_type": "execute_result"
    }
   ],
   "source": [
    "# First dataframe\n",
    "df[0]"
   ]
  },
  {
   "cell_type": "code",
   "execution_count": 10,
   "metadata": {},
   "outputs": [
    {
     "data": {
      "text/html": [
       "<div>\n",
       "<style scoped>\n",
       "    .dataframe tbody tr th:only-of-type {\n",
       "        vertical-align: middle;\n",
       "    }\n",
       "\n",
       "    .dataframe tbody tr th {\n",
       "        vertical-align: top;\n",
       "    }\n",
       "\n",
       "    .dataframe thead th {\n",
       "        text-align: right;\n",
       "    }\n",
       "</style>\n",
       "<table border=\"1\" class=\"dataframe\">\n",
       "  <thead>\n",
       "    <tr style=\"text-align: right;\">\n",
       "      <th></th>\n",
       "      <th>0</th>\n",
       "      <th>1</th>\n",
       "    </tr>\n",
       "  </thead>\n",
       "  <tbody>\n",
       "    <tr>\n",
       "      <th>0</th>\n",
       "      <td>Ms Catherine Livingstone</td>\n",
       "      <td>Chairman, Non Exec. Director</td>\n",
       "    </tr>\n",
       "    <tr>\n",
       "      <th>1</th>\n",
       "      <td>Mr Matthew Comyn</td>\n",
       "      <td>Managing Director, CEO, Director</td>\n",
       "    </tr>\n",
       "    <tr>\n",
       "      <th>2</th>\n",
       "      <td>Mr Shirish Apte</td>\n",
       "      <td>Non Exec. Director</td>\n",
       "    </tr>\n",
       "    <tr>\n",
       "      <th>3</th>\n",
       "      <td>Prof. Genevieve Bell</td>\n",
       "      <td>Non Exec. Director</td>\n",
       "    </tr>\n",
       "    <tr>\n",
       "      <th>4</th>\n",
       "      <td>Mr Paul O'Malley</td>\n",
       "      <td>Non Exec. Director</td>\n",
       "    </tr>\n",
       "    <tr>\n",
       "      <th>5</th>\n",
       "      <td>Ms Mary Padbury</td>\n",
       "      <td>Non Exec. Director</td>\n",
       "    </tr>\n",
       "    <tr>\n",
       "      <th>6</th>\n",
       "      <td>Ms Wendy Stops</td>\n",
       "      <td>Non Exec. Director</td>\n",
       "    </tr>\n",
       "    <tr>\n",
       "      <th>7</th>\n",
       "      <td>Ms Anne Templeman-Jones</td>\n",
       "      <td>Non Exec. Director</td>\n",
       "    </tr>\n",
       "    <tr>\n",
       "      <th>8</th>\n",
       "      <td>Mr Rob Whitfield</td>\n",
       "      <td>Non Exec. Director</td>\n",
       "    </tr>\n",
       "  </tbody>\n",
       "</table>\n",
       "</div>"
      ],
      "text/plain": [
       "                          0                                 1\n",
       "0  Ms Catherine Livingstone      Chairman, Non Exec. Director\n",
       "1          Mr Matthew Comyn  Managing Director, CEO, Director\n",
       "2           Mr Shirish Apte                Non Exec. Director\n",
       "3      Prof. Genevieve Bell                Non Exec. Director\n",
       "4          Mr Paul O'Malley                Non Exec. Director\n",
       "5           Ms Mary Padbury                Non Exec. Director\n",
       "6            Ms Wendy Stops                Non Exec. Director\n",
       "7   Ms Anne Templeman-Jones                Non Exec. Director\n",
       "8          Mr Rob Whitfield                Non Exec. Director"
      ]
     },
     "execution_count": 10,
     "metadata": {},
     "output_type": "execute_result"
    }
   ],
   "source": [
    "# Second dataframe\n",
    "df[1]"
   ]
  },
  {
   "cell_type": "code",
   "execution_count": 11,
   "metadata": {},
   "outputs": [
    {
     "data": {
      "text/html": [
       "<div>\n",
       "<style scoped>\n",
       "    .dataframe tbody tr th:only-of-type {\n",
       "        vertical-align: middle;\n",
       "    }\n",
       "\n",
       "    .dataframe tbody tr th {\n",
       "        vertical-align: top;\n",
       "    }\n",
       "\n",
       "    .dataframe thead th {\n",
       "        text-align: right;\n",
       "    }\n",
       "</style>\n",
       "<table border=\"1\" class=\"dataframe\">\n",
       "  <thead>\n",
       "    <tr style=\"text-align: right;\">\n",
       "      <th></th>\n",
       "      <th>0</th>\n",
       "      <th>1</th>\n",
       "    </tr>\n",
       "  </thead>\n",
       "  <tbody>\n",
       "    <tr>\n",
       "      <th>0</th>\n",
       "      <td>Ms Kristy Huxtable</td>\n",
       "      <td>Company Secretary</td>\n",
       "    </tr>\n",
       "    <tr>\n",
       "      <th>1</th>\n",
       "      <td>Ms Kara Nicholls</td>\n",
       "      <td>Company Secretary</td>\n",
       "    </tr>\n",
       "  </tbody>\n",
       "</table>\n",
       "</div>"
      ],
      "text/plain": [
       "                    0                  1\n",
       "0  Ms Kristy Huxtable  Company Secretary\n",
       "1    Ms Kara Nicholls  Company Secretary"
      ]
     },
     "execution_count": 11,
     "metadata": {},
     "output_type": "execute_result"
    }
   ],
   "source": [
    "# Last dataframe in list\n",
    "df[2]"
   ]
  },
  {
   "cell_type": "markdown",
   "metadata": {},
   "source": [
    "Now that we have all the information we want, the last step is to convert all the `dataframes` into an `excel workbook` with each sheet stores different information about the company"
   ]
  },
  {
   "cell_type": "code",
   "execution_count": 13,
   "metadata": {},
   "outputs": [],
   "source": [
    "# Export all the tables into excel workbook\n",
    "with pd.ExcelWriter('Company details.xlsx') as writer:  \n",
    "    df[0].to_excel(writer, sheet_name='Service_info')\n",
    "    df[1].to_excel(writer, sheet_name='Board_of_directors')\n",
    "    df[2].to_excel(writer, sheet_name='Secretaries')"
   ]
  },
  {
   "cell_type": "markdown",
   "metadata": {},
   "source": [
    "The workbook will be saved in the project directory.\n",
    "## Thanks for reading!"
   ]
  },
  {
   "cell_type": "code",
   "execution_count": null,
   "metadata": {},
   "outputs": [],
   "source": []
  }
 ],
 "metadata": {
  "kernelspec": {
   "display_name": "Python 3",
   "language": "python",
   "name": "python3"
  },
  "language_info": {
   "codemirror_mode": {
    "name": "ipython",
    "version": 3
   },
   "file_extension": ".py",
   "mimetype": "text/x-python",
   "name": "python",
   "nbconvert_exporter": "python",
   "pygments_lexer": "ipython3",
   "version": "3.7.1"
  }
 },
 "nbformat": 4,
 "nbformat_minor": 2
}
